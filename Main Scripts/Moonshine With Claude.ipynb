{
 "cells": [
  {
   "cell_type": "code",
   "execution_count": 1,
   "id": "f4080a7f",
   "metadata": {},
   "outputs": [
    {
     "name": "stderr",
     "output_type": "stream",
     "text": [
      "fatal: destination path 'moonshine' already exists and is not an empty directory.\n"
     ]
    }
   ],
   "source": [
    "!git clone https://github.com/usefulsensors/moonshine.git"
   ]
  },
  {
   "cell_type": "code",
   "execution_count": 2,
   "id": "8b8266d0",
   "metadata": {},
   "outputs": [
    {
     "name": "stdout",
     "output_type": "stream",
     "text": [
      "c:\\Users\\karth\\OneDrive\\Desktop\\BlueKyte Work\\VTT\\moonshine\n"
     ]
    }
   ],
   "source": [
    "cd moonshine"
   ]
  },
  {
   "cell_type": "code",
   "execution_count": 3,
   "id": "81e50663",
   "metadata": {},
   "outputs": [
    {
     "name": "stderr",
     "output_type": "stream",
     "text": [
      "Error: [WinError 2] The system cannot find the file specified\n"
     ]
    }
   ],
   "source": [
    "!python3 -m venv env"
   ]
  },
  {
   "cell_type": "code",
   "execution_count": 4,
   "id": "ebb2b270",
   "metadata": {},
   "outputs": [],
   "source": [
    "!source env/bin/activate"
   ]
  },
  {
   "cell_type": "code",
   "execution_count": 4,
   "id": "b3e34997",
   "metadata": {
    "scrolled": true
   },
   "outputs": [
    {
     "name": "stdout",
     "output_type": "stream",
     "text": [
      "Looking in indexes: https://pypi.org/simple, https://pip.repos.neuron.amazonaws.com\n",
      "Requirement already satisfied: numba in c:\\users\\karth\\appdata\\local\\programs\\python\\python310\\lib\\site-packages (from -r requirements.txt (line 1)) (0.60.0)\n",
      "Requirement already satisfied: tokenizers>=0.19.0 in c:\\users\\karth\\appdata\\local\\programs\\python\\python310\\lib\\site-packages (from -r requirements.txt (line 2)) (0.19.1)\n",
      "Requirement already satisfied: einops==0.8.0 in c:\\users\\karth\\appdata\\local\\programs\\python\\python310\\lib\\site-packages (from -r requirements.txt (line 3)) (0.8.0)\n",
      "Requirement already satisfied: librosa>=0.9.0 in c:\\users\\karth\\appdata\\local\\programs\\python\\python310\\lib\\site-packages (from -r requirements.txt (line 4)) (0.10.2.post1)\n",
      "Requirement already satisfied: torch>=2.4.0 in c:\\users\\karth\\appdata\\local\\programs\\python\\python310\\lib\\site-packages (from -r requirements.txt (line 5)) (2.5.1)\n",
      "Requirement already satisfied: keras==3.6.0 in c:\\users\\karth\\appdata\\local\\programs\\python\\python310\\lib\\site-packages (from -r requirements.txt (line 6)) (3.6.0)\n",
      "Requirement already satisfied: absl-py in c:\\users\\karth\\appdata\\local\\programs\\python\\python310\\lib\\site-packages (from keras==3.6.0->-r requirements.txt (line 6)) (2.1.0)\n",
      "Requirement already satisfied: numpy in c:\\users\\karth\\appdata\\local\\programs\\python\\python310\\lib\\site-packages (from keras==3.6.0->-r requirements.txt (line 6)) (1.26.4)\n",
      "Requirement already satisfied: rich in c:\\users\\karth\\appdata\\local\\programs\\python\\python310\\lib\\site-packages (from keras==3.6.0->-r requirements.txt (line 6)) (13.7.1)\n",
      "Requirement already satisfied: namex in c:\\users\\karth\\appdata\\local\\programs\\python\\python310\\lib\\site-packages (from keras==3.6.0->-r requirements.txt (line 6)) (0.0.8)\n",
      "Requirement already satisfied: h5py in c:\\users\\karth\\appdata\\local\\programs\\python\\python310\\lib\\site-packages (from keras==3.6.0->-r requirements.txt (line 6)) (3.12.1)\n",
      "Requirement already satisfied: optree in c:\\users\\karth\\appdata\\local\\programs\\python\\python310\\lib\\site-packages (from keras==3.6.0->-r requirements.txt (line 6)) (0.13.0)\n",
      "Requirement already satisfied: ml-dtypes in c:\\users\\karth\\appdata\\local\\programs\\python\\python310\\lib\\site-packages (from keras==3.6.0->-r requirements.txt (line 6)) (0.4.1)\n",
      "Requirement already satisfied: packaging in c:\\users\\karth\\appdata\\local\\programs\\python\\python310\\lib\\site-packages (from keras==3.6.0->-r requirements.txt (line 6)) (23.1)\n",
      "Requirement already satisfied: llvmlite<0.44,>=0.43.0dev0 in c:\\users\\karth\\appdata\\local\\programs\\python\\python310\\lib\\site-packages (from numba->-r requirements.txt (line 1)) (0.43.0)\n",
      "Requirement already satisfied: huggingface-hub<1.0,>=0.16.4 in c:\\users\\karth\\appdata\\local\\programs\\python\\python310\\lib\\site-packages (from tokenizers>=0.19.0->-r requirements.txt (line 2)) (0.23.4)\n",
      "Requirement already satisfied: audioread>=2.1.9 in c:\\users\\karth\\appdata\\local\\programs\\python\\python310\\lib\\site-packages (from librosa>=0.9.0->-r requirements.txt (line 4)) (3.0.1)\n",
      "Requirement already satisfied: scipy>=1.2.0 in c:\\users\\karth\\appdata\\local\\programs\\python\\python310\\lib\\site-packages (from librosa>=0.9.0->-r requirements.txt (line 4)) (1.14.1)\n",
      "Requirement already satisfied: scikit-learn>=0.20.0 in c:\\users\\karth\\appdata\\local\\programs\\python\\python310\\lib\\site-packages (from librosa>=0.9.0->-r requirements.txt (line 4)) (1.5.2)\n",
      "Requirement already satisfied: joblib>=0.14 in c:\\users\\karth\\appdata\\local\\programs\\python\\python310\\lib\\site-packages (from librosa>=0.9.0->-r requirements.txt (line 4)) (1.3.2)\n",
      "Requirement already satisfied: decorator>=4.3.0 in c:\\users\\karth\\appdata\\local\\programs\\python\\python310\\lib\\site-packages (from librosa>=0.9.0->-r requirements.txt (line 4)) (5.1.1)\n",
      "Requirement already satisfied: soundfile>=0.12.1 in c:\\users\\karth\\appdata\\local\\programs\\python\\python310\\lib\\site-packages (from librosa>=0.9.0->-r requirements.txt (line 4)) (0.12.1)\n",
      "Requirement already satisfied: pooch>=1.1 in c:\\users\\karth\\appdata\\local\\programs\\python\\python310\\lib\\site-packages (from librosa>=0.9.0->-r requirements.txt (line 4)) (1.8.2)\n",
      "Requirement already satisfied: soxr>=0.3.2 in c:\\users\\karth\\appdata\\local\\programs\\python\\python310\\lib\\site-packages (from librosa>=0.9.0->-r requirements.txt (line 4)) (0.5.0.post1)\n",
      "Requirement already satisfied: typing-extensions>=4.1.1 in c:\\users\\karth\\appdata\\local\\programs\\python\\python310\\lib\\site-packages (from librosa>=0.9.0->-r requirements.txt (line 4)) (4.9.0)\n",
      "Requirement already satisfied: lazy-loader>=0.1 in c:\\users\\karth\\appdata\\local\\programs\\python\\python310\\lib\\site-packages (from librosa>=0.9.0->-r requirements.txt (line 4)) (0.4)\n",
      "Requirement already satisfied: msgpack>=1.0 in c:\\users\\karth\\appdata\\local\\programs\\python\\python310\\lib\\site-packages (from librosa>=0.9.0->-r requirements.txt (line 4)) (1.1.0)\n",
      "Requirement already satisfied: filelock in c:\\users\\karth\\appdata\\local\\programs\\python\\python310\\lib\\site-packages (from torch>=2.4.0->-r requirements.txt (line 5)) (3.15.4)\n",
      "Requirement already satisfied: networkx in c:\\users\\karth\\appdata\\local\\programs\\python\\python310\\lib\\site-packages (from torch>=2.4.0->-r requirements.txt (line 5)) (3.3)\n",
      "Requirement already satisfied: jinja2 in c:\\users\\karth\\appdata\\roaming\\python\\python310\\site-packages (from torch>=2.4.0->-r requirements.txt (line 5)) (3.0.3)\n",
      "Requirement already satisfied: fsspec in c:\\users\\karth\\appdata\\local\\programs\\python\\python310\\lib\\site-packages (from torch>=2.4.0->-r requirements.txt (line 5)) (2023.10.0)\n",
      "Requirement already satisfied: sympy==1.13.1 in c:\\users\\karth\\appdata\\local\\programs\\python\\python310\\lib\\site-packages (from torch>=2.4.0->-r requirements.txt (line 5)) (1.13.1)\n",
      "Requirement already satisfied: mpmath<1.4,>=1.1.0 in c:\\users\\karth\\appdata\\local\\programs\\python\\python310\\lib\\site-packages (from sympy==1.13.1->torch>=2.4.0->-r requirements.txt (line 5)) (1.3.0)\n",
      "Requirement already satisfied: pyyaml>=5.1 in c:\\users\\karth\\appdata\\local\\programs\\python\\python310\\lib\\site-packages (from huggingface-hub<1.0,>=0.16.4->tokenizers>=0.19.0->-r requirements.txt (line 2)) (6.0)\n",
      "Requirement already satisfied: requests in c:\\users\\karth\\appdata\\local\\programs\\python\\python310\\lib\\site-packages (from huggingface-hub<1.0,>=0.16.4->tokenizers>=0.19.0->-r requirements.txt (line 2)) (2.32.3)\n",
      "Requirement already satisfied: tqdm>=4.42.1 in c:\\users\\karth\\appdata\\local\\programs\\python\\python310\\lib\\site-packages (from huggingface-hub<1.0,>=0.16.4->tokenizers>=0.19.0->-r requirements.txt (line 2)) (4.66.4)\n",
      "Requirement already satisfied: platformdirs>=2.5.0 in c:\\users\\karth\\appdata\\local\\programs\\python\\python310\\lib\\site-packages (from pooch>=1.1->librosa>=0.9.0->-r requirements.txt (line 4)) (3.5.3)\n",
      "Requirement already satisfied: threadpoolctl>=3.1.0 in c:\\users\\karth\\appdata\\local\\programs\\python\\python310\\lib\\site-packages (from scikit-learn>=0.20.0->librosa>=0.9.0->-r requirements.txt (line 4)) (3.5.0)\n",
      "Requirement already satisfied: cffi>=1.0 in c:\\users\\karth\\appdata\\local\\programs\\python\\python310\\lib\\site-packages (from soundfile>=0.12.1->librosa>=0.9.0->-r requirements.txt (line 4)) (1.15.1)\n",
      "Requirement already satisfied: MarkupSafe>=2.0 in c:\\users\\karth\\appdata\\roaming\\python\\python310\\site-packages (from jinja2->torch>=2.4.0->-r requirements.txt (line 5)) (2.0.1)\n",
      "Requirement already satisfied: markdown-it-py>=2.2.0 in c:\\users\\karth\\appdata\\local\\programs\\python\\python310\\lib\\site-packages (from rich->keras==3.6.0->-r requirements.txt (line 6)) (3.0.0)\n",
      "Requirement already satisfied: pygments<3.0.0,>=2.13.0 in c:\\users\\karth\\appdata\\local\\programs\\python\\python310\\lib\\site-packages (from rich->keras==3.6.0->-r requirements.txt (line 6)) (2.15.1)\n",
      "Requirement already satisfied: pycparser in c:\\users\\karth\\appdata\\local\\programs\\python\\python310\\lib\\site-packages (from cffi>=1.0->soundfile>=0.12.1->librosa>=0.9.0->-r requirements.txt (line 4)) (2.21)\n",
      "Requirement already satisfied: mdurl~=0.1 in c:\\users\\karth\\appdata\\local\\programs\\python\\python310\\lib\\site-packages (from markdown-it-py>=2.2.0->rich->keras==3.6.0->-r requirements.txt (line 6)) (0.1.2)\n",
      "Requirement already satisfied: charset-normalizer<4,>=2 in c:\\users\\karth\\appdata\\local\\programs\\python\\python310\\lib\\site-packages (from requests->huggingface-hub<1.0,>=0.16.4->tokenizers>=0.19.0->-r requirements.txt (line 2)) (3.3.2)\n",
      "Requirement already satisfied: idna<4,>=2.5 in c:\\users\\karth\\appdata\\local\\programs\\python\\python310\\lib\\site-packages (from requests->huggingface-hub<1.0,>=0.16.4->tokenizers>=0.19.0->-r requirements.txt (line 2)) (3.4)\n",
      "Requirement already satisfied: urllib3<3,>=1.21.1 in c:\\users\\karth\\appdata\\local\\programs\\python\\python310\\lib\\site-packages (from requests->huggingface-hub<1.0,>=0.16.4->tokenizers>=0.19.0->-r requirements.txt (line 2)) (2.2.2)\n",
      "Requirement already satisfied: certifi>=2017.4.17 in c:\\users\\karth\\appdata\\local\\programs\\python\\python310\\lib\\site-packages (from requests->huggingface-hub<1.0,>=0.16.4->tokenizers>=0.19.0->-r requirements.txt (line 2)) (2023.11.17)\n",
      "Requirement already satisfied: colorama in c:\\users\\karth\\appdata\\local\\programs\\python\\python310\\lib\\site-packages (from tqdm>=4.42.1->huggingface-hub<1.0,>=0.16.4->tokenizers>=0.19.0->-r requirements.txt (line 2)) (0.4.6)\n",
      "Note: you may need to restart the kernel to use updated packages.\n"
     ]
    },
    {
     "name": "stderr",
     "output_type": "stream",
     "text": [
      "WARNING: Ignoring invalid distribution -ip (c:\\users\\karth\\appdata\\local\\programs\\python\\python310\\lib\\site-packages)\n",
      "WARNING: Ignoring invalid distribution -otocore (c:\\users\\karth\\appdata\\local\\programs\\python\\python310\\lib\\site-packages)\n",
      "WARNING: Ignoring invalid distribution -ip (c:\\users\\karth\\appdata\\local\\programs\\python\\python310\\lib\\site-packages)\n",
      "WARNING: Ignoring invalid distribution -otocore (c:\\users\\karth\\appdata\\local\\programs\\python\\python310\\lib\\site-packages)\n"
     ]
    }
   ],
   "source": [
    "pip install -r requirements.txt"
   ]
  },
  {
   "cell_type": "code",
   "execution_count": 5,
   "id": "7d4f31d3",
   "metadata": {
    "scrolled": true
   },
   "outputs": [
    {
     "name": "stdout",
     "output_type": "stream",
     "text": [
      "Looking in indexes: https://pypi.org/simple, https://pip.repos.neuron.amazonaws.com\n",
      "Requirement already satisfied: tensorflow in c:\\users\\karth\\appdata\\local\\programs\\python\\python310\\lib\\site-packages (2.18.0)\n",
      "Requirement already satisfied: tensorflow-intel==2.18.0 in c:\\users\\karth\\appdata\\local\\programs\\python\\python310\\lib\\site-packages (from tensorflow) (2.18.0)\n",
      "Requirement already satisfied: absl-py>=1.0.0 in c:\\users\\karth\\appdata\\local\\programs\\python\\python310\\lib\\site-packages (from tensorflow-intel==2.18.0->tensorflow) (2.1.0)\n",
      "Requirement already satisfied: astunparse>=1.6.0 in c:\\users\\karth\\appdata\\local\\programs\\python\\python310\\lib\\site-packages (from tensorflow-intel==2.18.0->tensorflow) (1.6.3)\n",
      "Requirement already satisfied: flatbuffers>=24.3.25 in c:\\users\\karth\\appdata\\local\\programs\\python\\python310\\lib\\site-packages (from tensorflow-intel==2.18.0->tensorflow) (24.3.25)\n",
      "Requirement already satisfied: gast!=0.5.0,!=0.5.1,!=0.5.2,>=0.2.1 in c:\\users\\karth\\appdata\\local\\programs\\python\\python310\\lib\\site-packages (from tensorflow-intel==2.18.0->tensorflow) (0.6.0)\n",
      "Requirement already satisfied: google-pasta>=0.1.1 in c:\\users\\karth\\appdata\\local\\programs\\python\\python310\\lib\\site-packages (from tensorflow-intel==2.18.0->tensorflow) (0.2.0)\n",
      "Requirement already satisfied: libclang>=13.0.0 in c:\\users\\karth\\appdata\\local\\programs\\python\\python310\\lib\\site-packages (from tensorflow-intel==2.18.0->tensorflow) (18.1.1)\n",
      "Requirement already satisfied: opt-einsum>=2.3.2 in c:\\users\\karth\\appdata\\local\\programs\\python\\python310\\lib\\site-packages (from tensorflow-intel==2.18.0->tensorflow) (3.4.0)\n",
      "Requirement already satisfied: packaging in c:\\users\\karth\\appdata\\local\\programs\\python\\python310\\lib\\site-packages (from tensorflow-intel==2.18.0->tensorflow) (23.1)\n",
      "Requirement already satisfied: protobuf!=4.21.0,!=4.21.1,!=4.21.2,!=4.21.3,!=4.21.4,!=4.21.5,<6.0.0dev,>=3.20.3 in c:\\users\\karth\\appdata\\local\\programs\\python\\python310\\lib\\site-packages (from tensorflow-intel==2.18.0->tensorflow) (4.25.3)\n",
      "Requirement already satisfied: requests<3,>=2.21.0 in c:\\users\\karth\\appdata\\local\\programs\\python\\python310\\lib\\site-packages (from tensorflow-intel==2.18.0->tensorflow) (2.32.3)\n",
      "Requirement already satisfied: setuptools in c:\\users\\karth\\appdata\\local\\programs\\python\\python310\\lib\\site-packages (from tensorflow-intel==2.18.0->tensorflow) (65.5.0)\n",
      "Requirement already satisfied: six>=1.12.0 in c:\\users\\karth\\appdata\\local\\programs\\python\\python310\\lib\\site-packages (from tensorflow-intel==2.18.0->tensorflow) (1.16.0)\n",
      "Requirement already satisfied: termcolor>=1.1.0 in c:\\users\\karth\\appdata\\local\\programs\\python\\python310\\lib\\site-packages (from tensorflow-intel==2.18.0->tensorflow) (2.5.0)\n",
      "Requirement already satisfied: typing-extensions>=3.6.6 in c:\\users\\karth\\appdata\\local\\programs\\python\\python310\\lib\\site-packages (from tensorflow-intel==2.18.0->tensorflow) (4.9.0)\n",
      "Requirement already satisfied: wrapt>=1.11.0 in c:\\users\\karth\\appdata\\local\\programs\\python\\python310\\lib\\site-packages (from tensorflow-intel==2.18.0->tensorflow) (1.16.0)\n",
      "Requirement already satisfied: grpcio<2.0,>=1.24.3 in c:\\users\\karth\\appdata\\local\\programs\\python\\python310\\lib\\site-packages (from tensorflow-intel==2.18.0->tensorflow) (1.67.1)\n",
      "Requirement already satisfied: tensorboard<2.19,>=2.18 in c:\\users\\karth\\appdata\\local\\programs\\python\\python310\\lib\\site-packages (from tensorflow-intel==2.18.0->tensorflow) (2.18.0)\n",
      "Requirement already satisfied: keras>=3.5.0 in c:\\users\\karth\\appdata\\local\\programs\\python\\python310\\lib\\site-packages (from tensorflow-intel==2.18.0->tensorflow) (3.6.0)\n",
      "Requirement already satisfied: numpy<2.1.0,>=1.26.0 in c:\\users\\karth\\appdata\\local\\programs\\python\\python310\\lib\\site-packages (from tensorflow-intel==2.18.0->tensorflow) (1.26.4)\n",
      "Requirement already satisfied: h5py>=3.11.0 in c:\\users\\karth\\appdata\\local\\programs\\python\\python310\\lib\\site-packages (from tensorflow-intel==2.18.0->tensorflow) (3.12.1)\n",
      "Requirement already satisfied: ml-dtypes<0.5.0,>=0.4.0 in c:\\users\\karth\\appdata\\local\\programs\\python\\python310\\lib\\site-packages (from tensorflow-intel==2.18.0->tensorflow) (0.4.1)\n",
      "Requirement already satisfied: tensorflow-io-gcs-filesystem>=0.23.1 in c:\\users\\karth\\appdata\\local\\programs\\python\\python310\\lib\\site-packages (from tensorflow-intel==2.18.0->tensorflow) (0.31.0)\n",
      "Requirement already satisfied: wheel<1.0,>=0.23.0 in c:\\users\\karth\\appdata\\local\\programs\\python\\python310\\lib\\site-packages (from astunparse>=1.6.0->tensorflow-intel==2.18.0->tensorflow) (0.44.0)\n",
      "Requirement already satisfied: rich in c:\\users\\karth\\appdata\\local\\programs\\python\\python310\\lib\\site-packages (from keras>=3.5.0->tensorflow-intel==2.18.0->tensorflow) (13.7.1)\n",
      "Requirement already satisfied: namex in c:\\users\\karth\\appdata\\local\\programs\\python\\python310\\lib\\site-packages (from keras>=3.5.0->tensorflow-intel==2.18.0->tensorflow) (0.0.8)\n",
      "Requirement already satisfied: optree in c:\\users\\karth\\appdata\\local\\programs\\python\\python310\\lib\\site-packages (from keras>=3.5.0->tensorflow-intel==2.18.0->tensorflow) (0.13.0)\n",
      "Requirement already satisfied: charset-normalizer<4,>=2 in c:\\users\\karth\\appdata\\local\\programs\\python\\python310\\lib\\site-packages (from requests<3,>=2.21.0->tensorflow-intel==2.18.0->tensorflow) (3.3.2)\n",
      "Requirement already satisfied: idna<4,>=2.5 in c:\\users\\karth\\appdata\\local\\programs\\python\\python310\\lib\\site-packages (from requests<3,>=2.21.0->tensorflow-intel==2.18.0->tensorflow) (3.4)\n",
      "Requirement already satisfied: urllib3<3,>=1.21.1 in c:\\users\\karth\\appdata\\local\\programs\\python\\python310\\lib\\site-packages (from requests<3,>=2.21.0->tensorflow-intel==2.18.0->tensorflow) (2.2.2)\n",
      "Requirement already satisfied: certifi>=2017.4.17 in c:\\users\\karth\\appdata\\local\\programs\\python\\python310\\lib\\site-packages (from requests<3,>=2.21.0->tensorflow-intel==2.18.0->tensorflow) (2023.11.17)\n",
      "Requirement already satisfied: markdown>=2.6.8 in c:\\users\\karth\\appdata\\local\\programs\\python\\python310\\lib\\site-packages (from tensorboard<2.19,>=2.18->tensorflow-intel==2.18.0->tensorflow) (3.6)\n",
      "Requirement already satisfied: tensorboard-data-server<0.8.0,>=0.7.0 in c:\\users\\karth\\appdata\\local\\programs\\python\\python310\\lib\\site-packages (from tensorboard<2.19,>=2.18->tensorflow-intel==2.18.0->tensorflow) (0.7.2)\n",
      "Requirement already satisfied: werkzeug>=1.0.1 in c:\\users\\karth\\appdata\\roaming\\python\\python310\\site-packages (from tensorboard<2.19,>=2.18->tensorflow-intel==2.18.0->tensorflow) (2.0.2)\n",
      "Requirement already satisfied: markdown-it-py>=2.2.0 in c:\\users\\karth\\appdata\\local\\programs\\python\\python310\\lib\\site-packages (from rich->keras>=3.5.0->tensorflow-intel==2.18.0->tensorflow) (3.0.0)\n",
      "Requirement already satisfied: pygments<3.0.0,>=2.13.0 in c:\\users\\karth\\appdata\\local\\programs\\python\\python310\\lib\\site-packages (from rich->keras>=3.5.0->tensorflow-intel==2.18.0->tensorflow) (2.15.1)\n",
      "Requirement already satisfied: mdurl~=0.1 in c:\\users\\karth\\appdata\\local\\programs\\python\\python310\\lib\\site-packages (from markdown-it-py>=2.2.0->rich->keras>=3.5.0->tensorflow-intel==2.18.0->tensorflow) (0.1.2)\n",
      "Note: you may need to restart the kernel to use updated packages.\n"
     ]
    },
    {
     "name": "stderr",
     "output_type": "stream",
     "text": [
      "WARNING: Ignoring invalid distribution -ip (c:\\users\\karth\\appdata\\local\\programs\\python\\python310\\lib\\site-packages)\n",
      "WARNING: Ignoring invalid distribution -otocore (c:\\users\\karth\\appdata\\local\\programs\\python\\python310\\lib\\site-packages)\n",
      "WARNING: Ignoring invalid distribution -ip (c:\\users\\karth\\appdata\\local\\programs\\python\\python310\\lib\\site-packages)\n",
      "WARNING: Ignoring invalid distribution -otocore (c:\\users\\karth\\appdata\\local\\programs\\python\\python310\\lib\\site-packages)\n"
     ]
    }
   ],
   "source": [
    "pip install tensorflow"
   ]
  },
  {
   "cell_type": "code",
   "execution_count": 6,
   "id": "3c8d96ba",
   "metadata": {},
   "outputs": [],
   "source": [
    "import moonshine"
   ]
  },
  {
   "cell_type": "code",
   "execution_count": 7,
   "id": "8dfb6cf4",
   "metadata": {},
   "outputs": [
    {
     "name": "stdout",
     "output_type": "stream",
     "text": [
      "WARNING:tensorflow:From c:\\Users\\karth\\AppData\\Local\\Programs\\Python\\Python310\\lib\\site-packages\\keras\\src\\backend\\tensorflow\\core.py:204: The name tf.placeholder is deprecated. Please use tf.compat.v1.placeholder instead.\n",
      "\n"
     ]
    }
   ],
   "source": [
    "model = moonshine.load_model(\"moonshine/base\")"
   ]
  },
  {
   "cell_type": "code",
   "execution_count": 9,
   "id": "d1fccdaf",
   "metadata": {},
   "outputs": [
    {
     "name": "stderr",
     "output_type": "stream",
     "text": [
      "c:\\Users\\karth\\AppData\\Local\\Programs\\Python\\Python310\\lib\\site-packages\\keras\\src\\ops\\nn.py:545: UserWarning: You are using a softmax over axis 3 of a tensor of shape (1, 8, 1, 1). This axis has size 1. The softmax operation will always return the value 1, which is likely not what you intended. Did you mean to use a sigmoid instead?\n",
      "  warnings.warn(\n"
     ]
    }
   ],
   "source": [
    "result_1 = moonshine.transcribe(r\"C:\\Users\\karth\\OneDrive\\Desktop\\BlueKyte Work\\VTT\\KB.wav\", model=model)"
   ]
  },
  {
   "cell_type": "code",
   "execution_count": 10,
   "id": "4bfb5e7d",
   "metadata": {},
   "outputs": [
    {
     "name": "stdout",
     "output_type": "stream",
     "text": [
      "['Can you go to case research and search for case one on the back of the substrate of Kerala case and give you the summary edition of the case?']\n"
     ]
    }
   ],
   "source": [
    "print(result_1)"
   ]
  },
  {
   "cell_type": "code",
   "execution_count": null,
   "id": "85227f14",
   "metadata": {},
   "outputs": [],
   "source": []
  },
  {
   "cell_type": "code",
   "execution_count": null,
   "id": "f3824139",
   "metadata": {},
   "outputs": [],
   "source": []
  },
  {
   "cell_type": "code",
   "execution_count": 16,
   "id": "921a175f",
   "metadata": {},
   "outputs": [
    {
     "name": "stderr",
     "output_type": "stream",
     "text": [
      "huggingface/tokenizers: The current process just got forked, after parallelism has already been used. Disabling parallelism to avoid deadlocks...\n",
      "To disable this warning, you can either:\n",
      "\t- Avoid using `tokenizers` before the fork if possible\n",
      "\t- Explicitly set the environment variable TOKENIZERS_PARALLELISM=(true | false)\n"
     ]
    },
    {
     "name": "stdout",
     "output_type": "stream",
     "text": [
      "Collecting aioboto3\n",
      "  Downloading aioboto3-13.2.0-py3-none-any.whl.metadata (8.8 kB)\n",
      "Requirement already satisfied: boto3 in /home/ec2-user/anaconda3/envs/python3/lib/python3.10/site-packages (1.35.43)\n",
      "Collecting aiobotocore==2.15.2 (from aiobotocore[boto3]==2.15.2->aioboto3)\n",
      "  Downloading aiobotocore-2.15.2-py3-none-any.whl.metadata (23 kB)\n",
      "Collecting aiofiles>=23.2.1 (from aioboto3)\n",
      "  Downloading aiofiles-24.1.0-py3-none-any.whl.metadata (10 kB)\n",
      "Collecting botocore<1.35.37,>=1.35.16 (from aiobotocore==2.15.2->aiobotocore[boto3]==2.15.2->aioboto3)\n",
      "  Downloading botocore-1.35.36-py3-none-any.whl.metadata (5.7 kB)\n",
      "Requirement already satisfied: aiohttp<4.0.0,>=3.9.2 in /home/ec2-user/anaconda3/envs/python3/lib/python3.10/site-packages (from aiobotocore==2.15.2->aiobotocore[boto3]==2.15.2->aioboto3) (3.10.6)\n",
      "Requirement already satisfied: wrapt<2.0.0,>=1.10.10 in /home/ec2-user/anaconda3/envs/python3/lib/python3.10/site-packages (from aiobotocore==2.15.2->aiobotocore[boto3]==2.15.2->aioboto3) (1.16.0)\n",
      "Collecting aioitertools<1.0.0,>=0.5.1 (from aiobotocore==2.15.2->aiobotocore[boto3]==2.15.2->aioboto3)\n",
      "  Downloading aioitertools-0.12.0-py3-none-any.whl.metadata (3.8 kB)\n",
      "Collecting boto3\n",
      "  Downloading boto3-1.35.36-py3-none-any.whl.metadata (6.7 kB)\n",
      "Requirement already satisfied: jmespath<2.0.0,>=0.7.1 in /home/ec2-user/anaconda3/envs/python3/lib/python3.10/site-packages (from boto3) (1.0.1)\n",
      "Requirement already satisfied: s3transfer<0.11.0,>=0.10.0 in /home/ec2-user/anaconda3/envs/python3/lib/python3.10/site-packages (from boto3) (0.10.2)\n",
      "Requirement already satisfied: python-dateutil<3.0.0,>=2.1 in /home/ec2-user/anaconda3/envs/python3/lib/python3.10/site-packages (from botocore<1.35.37,>=1.35.16->aiobotocore==2.15.2->aiobotocore[boto3]==2.15.2->aioboto3) (2.9.0)\n",
      "Requirement already satisfied: urllib3!=2.2.0,<3,>=1.25.4 in /home/ec2-user/anaconda3/envs/python3/lib/python3.10/site-packages (from botocore<1.35.37,>=1.35.16->aiobotocore==2.15.2->aiobotocore[boto3]==2.15.2->aioboto3) (2.2.3)\n",
      "Requirement already satisfied: aiohappyeyeballs>=2.3.0 in /home/ec2-user/anaconda3/envs/python3/lib/python3.10/site-packages (from aiohttp<4.0.0,>=3.9.2->aiobotocore==2.15.2->aiobotocore[boto3]==2.15.2->aioboto3) (2.4.2)\n",
      "Requirement already satisfied: aiosignal>=1.1.2 in /home/ec2-user/anaconda3/envs/python3/lib/python3.10/site-packages (from aiohttp<4.0.0,>=3.9.2->aiobotocore==2.15.2->aiobotocore[boto3]==2.15.2->aioboto3) (1.3.1)\n",
      "Requirement already satisfied: attrs>=17.3.0 in /home/ec2-user/anaconda3/envs/python3/lib/python3.10/site-packages (from aiohttp<4.0.0,>=3.9.2->aiobotocore==2.15.2->aiobotocore[boto3]==2.15.2->aioboto3) (23.2.0)\n",
      "Requirement already satisfied: frozenlist>=1.1.1 in /home/ec2-user/anaconda3/envs/python3/lib/python3.10/site-packages (from aiohttp<4.0.0,>=3.9.2->aiobotocore==2.15.2->aiobotocore[boto3]==2.15.2->aioboto3) (1.4.1)\n",
      "Requirement already satisfied: multidict<7.0,>=4.5 in /home/ec2-user/anaconda3/envs/python3/lib/python3.10/site-packages (from aiohttp<4.0.0,>=3.9.2->aiobotocore==2.15.2->aiobotocore[boto3]==2.15.2->aioboto3) (6.1.0)\n",
      "Requirement already satisfied: yarl<2.0,>=1.12.0 in /home/ec2-user/anaconda3/envs/python3/lib/python3.10/site-packages (from aiohttp<4.0.0,>=3.9.2->aiobotocore==2.15.2->aiobotocore[boto3]==2.15.2->aioboto3) (1.13.0)\n",
      "Requirement already satisfied: async-timeout<5.0,>=4.0 in /home/ec2-user/anaconda3/envs/python3/lib/python3.10/site-packages (from aiohttp<4.0.0,>=3.9.2->aiobotocore==2.15.2->aiobotocore[boto3]==2.15.2->aioboto3) (4.0.3)\n",
      "Requirement already satisfied: six>=1.5 in /home/ec2-user/anaconda3/envs/python3/lib/python3.10/site-packages (from python-dateutil<3.0.0,>=2.1->botocore<1.35.37,>=1.35.16->aiobotocore==2.15.2->aiobotocore[boto3]==2.15.2->aioboto3) (1.16.0)\n",
      "Requirement already satisfied: typing-extensions>=4.1.0 in /home/ec2-user/anaconda3/envs/python3/lib/python3.10/site-packages (from multidict<7.0,>=4.5->aiohttp<4.0.0,>=3.9.2->aiobotocore==2.15.2->aiobotocore[boto3]==2.15.2->aioboto3) (4.12.2)\n",
      "Requirement already satisfied: idna>=2.0 in /home/ec2-user/anaconda3/envs/python3/lib/python3.10/site-packages (from yarl<2.0,>=1.12.0->aiohttp<4.0.0,>=3.9.2->aiobotocore==2.15.2->aiobotocore[boto3]==2.15.2->aioboto3) (3.10)\n",
      "Downloading aioboto3-13.2.0-py3-none-any.whl (34 kB)\n",
      "Downloading aiobotocore-2.15.2-py3-none-any.whl (77 kB)\n",
      "Downloading boto3-1.35.36-py3-none-any.whl (139 kB)\n",
      "Downloading aiofiles-24.1.0-py3-none-any.whl (15 kB)\n",
      "Downloading botocore-1.35.36-py3-none-any.whl (12.6 MB)\n",
      "\u001b[2K   \u001b[90m━━━━━━━━━━━━━━━━━━━━━━━━━━━━━━━━━━━━━━━━\u001b[0m \u001b[32m12.6/12.6 MB\u001b[0m \u001b[31m109.3 MB/s\u001b[0m eta \u001b[36m0:00:00\u001b[0m\n",
      "\u001b[?25hDownloading aioitertools-0.12.0-py3-none-any.whl (24 kB)\n",
      "Installing collected packages: aioitertools, aiofiles, botocore, boto3, aiobotocore, aioboto3\n",
      "  Attempting uninstall: botocore\n",
      "    Found existing installation: botocore 1.35.43\n",
      "    Uninstalling botocore-1.35.43:\n",
      "      Successfully uninstalled botocore-1.35.43\n",
      "  Attempting uninstall: boto3\n",
      "    Found existing installation: boto3 1.35.43\n",
      "    Uninstalling boto3-1.35.43:\n",
      "      Successfully uninstalled boto3-1.35.43\n",
      "\u001b[31mERROR: pip's dependency resolver does not currently take into account all the packages that are installed. This behaviour is the source of the following dependency conflicts.\n",
      "awscli 1.35.9 requires botocore==1.35.43, but you have botocore 1.35.36 which is incompatible.\u001b[0m\u001b[31m\n",
      "\u001b[0mSuccessfully installed aioboto3-13.2.0 aiobotocore-2.15.2 aiofiles-24.1.0 aioitertools-0.12.0 boto3-1.35.36 botocore-1.35.36\n",
      "Note: you may need to restart the kernel to use updated packages.\n"
     ]
    }
   ],
   "source": [
    "pip install aioboto3 boto3"
   ]
  },
  {
   "cell_type": "code",
   "execution_count": 17,
   "id": "515cf51e",
   "metadata": {},
   "outputs": [],
   "source": [
    "import nest_asyncio\n",
    "import asyncio\n",
    "import moonshine\n",
    "import json\n",
    "import aioboto3\n",
    "from botocore.config import Config"
   ]
  },
  {
   "cell_type": "code",
   "execution_count": 18,
   "id": "89358753",
   "metadata": {},
   "outputs": [],
   "source": [
    "nest_asyncio.apply()"
   ]
  },
  {
   "cell_type": "code",
   "execution_count": 19,
   "id": "16f7e75f",
   "metadata": {},
   "outputs": [],
   "source": [
    "# Load Moonshine model\n",
    "model = moonshine.load_model(\"moonshine/base\")"
   ]
  },
  {
   "cell_type": "code",
   "execution_count": null,
   "id": "f7e8100a",
   "metadata": {},
   "outputs": [],
   "source": [
    "# Define the Bedrock function for text correction\n",
    "async def query_bedrock(context_prompt, stream_flag, model):\n",
    "    session = aioboto3.Session()\n",
    "    async with session.client(\n",
    "        service_name=\"bedrock-runtime\",\n",
    "        region_name=\"us-east-1\",\n",
    "        aws_access_key_id=\"\",\n",
    "        aws_secret_access_key=\"\",\n",
    "        config=Config(\n",
    "            connect_timeout=300, read_timeout=300, retries={\"max_attempts\": 10}\n",
    "        ),\n",
    "    ) as bedrock:\n",
    "\n",
    "        body = json.dumps({\n",
    "            \"anthropic_version\": \"bedrock-2023-05-31\",\n",
    "            \"messages\": [\n",
    "                {\n",
    "                    \"role\": \"user\",\n",
    "                    \"content\": [{\"type\": \"text\", \"text\": context_prompt}],\n",
    "                }\n",
    "            ],\n",
    "            \"max_tokens\": 2000,\n",
    "            \"temperature\": 0.5,\n",
    "            \"top_p\": 0.9,\n",
    "        })\n",
    "\n",
    "        accept = \"application/json\"\n",
    "        contentType = \"application/json\"\n",
    "\n",
    "        if stream_flag:\n",
    "            response = await bedrock.invoke_model_with_response_stream(\n",
    "                body=body, modelId=model, accept=accept, contentType=contentType\n",
    "            )\n",
    "            async for event in response[\"body\"]:\n",
    "                chunk = event.get(\"chunk\")\n",
    "                if chunk:\n",
    "                    obj = json.loads(chunk.get(\"bytes\").decode())\n",
    "                    yield f\"data: {json.dumps(obj)}\\n\\n\"\n",
    "        else:\n",
    "            response = await bedrock.invoke_model(\n",
    "                body=body, modelId=model, accept=accept, contentType=contentType\n",
    "            )\n",
    "            response_body = json.loads(await response.get(\"body\").read())\n",
    "            text_content = response_body.get(\"content\", [])[0].get(\"text\", \"\")\n",
    "            yield text_content"
   ]
  },
  {
   "cell_type": "code",
   "execution_count": null,
   "id": "bc58198c",
   "metadata": {},
   "outputs": [],
   "source": [
    "# Main function to transcribe audio with Moonshine and correct text using Bedrock\n",
    "async def main(audio_file_path):\n",
    "    # Step 1: Transcribe audio using Moonshine\n",
    "    print(\"\\nTranscribing audio... Please wait...\")\n",
    "    transcription = moonshine.transcribe(audio_file_path, model=model)\n",
    "    print(\"\\nInitial Transcription:\")\n",
    "    print(\"-\" * 50)\n",
    "    print(transcription)\n",
    "    print(\"-\" * 50)\n",
    "\n",
    "    # Step 2: Apply Bedrock correction\n",
    "    print(\"\\nSending transcription for correction... Please wait...\")\n",
    "    \n",
    "    # Define the correction prompt\n",
    "    correction_prompt = f\"\"\"Please review and correct only the Indian proper nouns, names, and legal case names in the following text. \n",
    "    Ensure that any Indian legal case names, personal names, or geographical names are spelled correctly and formatted according to standard Indian legal conventions.\n",
    "\n",
    "    Original text: {transcription}\n",
    "\n",
    "    Strict Correction Rules:\n",
    "    - Only correct Indian case names, personal names, or geographical names, keeping all other text exactly the same.\n",
    "    - Maintain accurate spelling and capitalization for names related to Indian law, including proper noun formats.\n",
    "    - Do not rephrase, reword, or modify non-Indian names, any common words, or any parts of the text other than the specified proper nouns.\n",
    "    - Ensure case titles adhere to Indian legal citation formats, such as \"XYZ vs. ABC\" or \"In re: XYZ.\"\n",
    "    - If unsure of a correction, leave the text exactly as it is.\n",
    "\n",
    "    Output should contain only the strictly corrected text, with no added notes or explanations.\n",
    "    \"\"\"\n",
    "\n",
    "\n",
    "    # Query Bedrock\n",
    "    model_id = \"anthropic.claude-3-haiku-20240307-v1:0\"  # Replace with our in-use model ID\n",
    "    async for corrected_text in query_bedrock(correction_prompt, stream_flag=False, model=model_id):\n",
    "        print(\"\\nCorrected Transcription:\")\n",
    "        print(\"-\" * 50)\n",
    "        print(corrected_text)\n",
    "        print(\"-\" * 50)"
   ]
  },
  {
   "cell_type": "code",
   "execution_count": null,
   "id": "7c098754",
   "metadata": {},
   "outputs": [
    {
     "name": "stdout",
     "output_type": "stream",
     "text": [
      "\n",
      "Transcribing audio... Please wait...\n",
      "\n",
      "Initial Transcription:\n",
      "--------------------------------------------------\n",
      "['He head over to Casey Search and search for Martha Jivaji Rouse India vs. Union of India, Nineteen Seventy.']\n",
      "--------------------------------------------------\n",
      "\n",
      "Sending transcription for correction... Please wait...\n",
      "\n",
      "Corrected Transcription:\n",
      "--------------------------------------------------\n",
      "['He head over to Casey Search and search for Mahatma Jivaji Rau v. Union of India, 1970.']\n",
      "--------------------------------------------------\n"
     ]
    }
   ],
   "source": [
    "# audio_file_path = \"/home/ec2-user/SageMaker/KB.wav\"\n",
    "# audio_file_path = \"/home/ec2-user/SageMaker/updated_scindia.wav\"\n",
    "audio_file_path = \"/home/ec2-user/SageMaker/updated_scindia.wav\"\n",
    "scindia_clear.wav\n",
    "\n",
    "await main(audio_file_path)"
   ]
  },
  {
   "cell_type": "code",
   "execution_count": null,
   "id": "28e90de8",
   "metadata": {},
   "outputs": [],
   "source": []
  }
 ],
 "metadata": {
  "kernelspec": {
   "display_name": "Python 3",
   "language": "python",
   "name": "python3"
  },
  "language_info": {
   "codemirror_mode": {
    "name": "ipython",
    "version": 3
   },
   "file_extension": ".py",
   "mimetype": "text/x-python",
   "name": "python",
   "nbconvert_exporter": "python",
   "pygments_lexer": "ipython3",
   "version": "3.10.9"
  }
 },
 "nbformat": 4,
 "nbformat_minor": 5
}
